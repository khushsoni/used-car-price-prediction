{
 "cells": [
  {
   "cell_type": "markdown",
   "metadata": {
    "id": "mBhLX_FrC-7N",
    "slideshow": {
     "slide_type": "slide"
    }
   },
   "source": [
    "# Estimation of linear regression coefficients using linear algebra.\n",
    "\n"
   ]
  },
  {
   "cell_type": "code",
   "execution_count": 3,
   "metadata": {
    "id": "mRy2vOWa1cw_",
    "slideshow": {
     "slide_type": "slide"
    }
   },
   "outputs": [],
   "source": [
    "import pandas as pd\n",
    "import numpy as np"
   ]
  },
  {
   "cell_type": "code",
   "execution_count": 1,
   "metadata": {
    "colab": {
     "base_uri": "https://localhost:8080/",
     "height": 36
    },
    "id": "EBM0Bbq837jv",
    "outputId": "3dd578fd-f12e-447d-e191-449a2a2d79b1",
    "slideshow": {
     "slide_type": "slide"
    }
   },
   "outputs": [
    {
     "data": {
      "text/plain": [
       "'merc.csv'"
      ]
     },
     "execution_count": 1,
     "metadata": {},
     "output_type": "execute_result"
    }
   ],
   "source": [
    "# path = 'drive/MyDrive/CarData/'\n",
    "# filename = 'ford.csv'\n",
    "path = ''\n",
    "filename = 'merc.csv'\n",
    "fullpath = path + filename\n",
    "fullpath"
   ]
  },
  {
   "cell_type": "code",
   "execution_count": 5,
   "metadata": {
    "colab": {
     "base_uri": "https://localhost:8080/",
     "height": 206
    },
    "id": "0ypX0qHt4IuL",
    "outputId": "89a2ad38-fe85-49ee-e64a-972214942ab1",
    "slideshow": {
     "slide_type": "slide"
    }
   },
   "outputs": [
    {
     "data": {
      "text/html": [
       "<div>\n",
       "<style scoped>\n",
       "    .dataframe tbody tr th:only-of-type {\n",
       "        vertical-align: middle;\n",
       "    }\n",
       "\n",
       "    .dataframe tbody tr th {\n",
       "        vertical-align: top;\n",
       "    }\n",
       "\n",
       "    .dataframe thead th {\n",
       "        text-align: right;\n",
       "    }\n",
       "</style>\n",
       "<table border=\"1\" class=\"dataframe\">\n",
       "  <thead>\n",
       "    <tr style=\"text-align: right;\">\n",
       "      <th></th>\n",
       "      <th>model</th>\n",
       "      <th>year</th>\n",
       "      <th>price</th>\n",
       "      <th>transmission</th>\n",
       "      <th>mileage</th>\n",
       "      <th>fuelType</th>\n",
       "      <th>tax</th>\n",
       "      <th>mpg</th>\n",
       "      <th>engineSize</th>\n",
       "    </tr>\n",
       "  </thead>\n",
       "  <tbody>\n",
       "    <tr>\n",
       "      <th>0</th>\n",
       "      <td>SLK</td>\n",
       "      <td>2005</td>\n",
       "      <td>5200</td>\n",
       "      <td>Automatic</td>\n",
       "      <td>63000</td>\n",
       "      <td>Petrol</td>\n",
       "      <td>325</td>\n",
       "      <td>32.1</td>\n",
       "      <td>1.8</td>\n",
       "    </tr>\n",
       "    <tr>\n",
       "      <th>1</th>\n",
       "      <td>S Class</td>\n",
       "      <td>2017</td>\n",
       "      <td>34948</td>\n",
       "      <td>Automatic</td>\n",
       "      <td>27000</td>\n",
       "      <td>Hybrid</td>\n",
       "      <td>20</td>\n",
       "      <td>61.4</td>\n",
       "      <td>2.1</td>\n",
       "    </tr>\n",
       "    <tr>\n",
       "      <th>2</th>\n",
       "      <td>SL CLASS</td>\n",
       "      <td>2016</td>\n",
       "      <td>49948</td>\n",
       "      <td>Automatic</td>\n",
       "      <td>6200</td>\n",
       "      <td>Petrol</td>\n",
       "      <td>555</td>\n",
       "      <td>28.0</td>\n",
       "      <td>5.5</td>\n",
       "    </tr>\n",
       "    <tr>\n",
       "      <th>3</th>\n",
       "      <td>G Class</td>\n",
       "      <td>2016</td>\n",
       "      <td>61948</td>\n",
       "      <td>Automatic</td>\n",
       "      <td>16000</td>\n",
       "      <td>Petrol</td>\n",
       "      <td>325</td>\n",
       "      <td>30.4</td>\n",
       "      <td>4.0</td>\n",
       "    </tr>\n",
       "    <tr>\n",
       "      <th>4</th>\n",
       "      <td>G Class</td>\n",
       "      <td>2016</td>\n",
       "      <td>73948</td>\n",
       "      <td>Automatic</td>\n",
       "      <td>4000</td>\n",
       "      <td>Petrol</td>\n",
       "      <td>325</td>\n",
       "      <td>30.1</td>\n",
       "      <td>4.0</td>\n",
       "    </tr>\n",
       "  </tbody>\n",
       "</table>\n",
       "</div>"
      ],
      "text/plain": [
       "       model  year  price transmission  mileage fuelType  tax   mpg  \\\n",
       "0        SLK  2005   5200    Automatic    63000   Petrol  325  32.1   \n",
       "1    S Class  2017  34948    Automatic    27000   Hybrid   20  61.4   \n",
       "2   SL CLASS  2016  49948    Automatic     6200   Petrol  555  28.0   \n",
       "3    G Class  2016  61948    Automatic    16000   Petrol  325  30.4   \n",
       "4    G Class  2016  73948    Automatic     4000   Petrol  325  30.1   \n",
       "\n",
       "   engineSize  \n",
       "0         1.8  \n",
       "1         2.1  \n",
       "2         5.5  \n",
       "3         4.0  \n",
       "4         4.0  "
      ]
     },
     "execution_count": 5,
     "metadata": {},
     "output_type": "execute_result"
    }
   ],
   "source": [
    "df = pd.read_csv(fullpath)\n",
    "df.head()"
   ]
  },
  {
   "cell_type": "code",
   "execution_count": 6,
   "metadata": {
    "colab": {
     "base_uri": "https://localhost:8080/"
    },
    "id": "aD8i-pql7rT1",
    "outputId": "c018f792-3d72-4544-f5bb-539635500c0e"
   },
   "outputs": [
    {
     "data": {
      "text/plain": [
       "(13119, 9)"
      ]
     },
     "execution_count": 6,
     "metadata": {},
     "output_type": "execute_result"
    }
   ],
   "source": [
    "df.shape"
   ]
  },
  {
   "cell_type": "code",
   "execution_count": 7,
   "metadata": {
    "colab": {
     "base_uri": "https://localhost:8080/"
    },
    "id": "NzmruRzw4Pjt",
    "outputId": "9750686d-0f6d-4bf6-c7b6-f28b13ca3bae",
    "scrolled": true
   },
   "outputs": [
    {
     "data": {
      "text/plain": [
       "array([' SLK', ' S Class', ' SL CLASS', ' G Class', ' GLE Class',\n",
       "       ' GLA Class', ' A Class', ' B Class', ' GLC Class', ' C Class',\n",
       "       ' E Class', ' GL Class', ' CLS Class', ' CLC Class', ' CLA Class',\n",
       "       ' V Class', ' M Class', ' CL Class', ' GLS Class', ' GLB Class',\n",
       "       ' X-CLASS', '180', ' CLK', ' R Class', '230', '220', '200'],\n",
       "      dtype=object)"
      ]
     },
     "execution_count": 7,
     "metadata": {},
     "output_type": "execute_result"
    }
   ],
   "source": [
    "df['model'].unique()"
   ]
  },
  {
   "cell_type": "code",
   "execution_count": 8,
   "metadata": {
    "colab": {
     "base_uri": "https://localhost:8080/"
    },
    "id": "PzIPUfp94Wk_",
    "outputId": "33c7e8aa-9f52-431e-c300-e158bfcc1a38"
   },
   "outputs": [
    {
     "data": {
      "text/plain": [
       "array(['Automatic', 'Manual', 'Semi-Auto', 'Other'], dtype=object)"
      ]
     },
     "execution_count": 8,
     "metadata": {},
     "output_type": "execute_result"
    }
   ],
   "source": [
    "df['transmission'].unique()"
   ]
  },
  {
   "cell_type": "code",
   "execution_count": 9,
   "metadata": {
    "colab": {
     "base_uri": "https://localhost:8080/"
    },
    "id": "RZHmxaWB4f1P",
    "outputId": "819f2a2e-718c-4928-9d47-aff72678f3ed"
   },
   "outputs": [
    {
     "data": {
      "text/plain": [
       "array(['Petrol', 'Hybrid', 'Diesel', 'Other'], dtype=object)"
      ]
     },
     "execution_count": 9,
     "metadata": {},
     "output_type": "execute_result"
    }
   ],
   "source": [
    "df['fuelType'].unique()"
   ]
  },
  {
   "cell_type": "code",
   "execution_count": 10,
   "metadata": {
    "colab": {
     "base_uri": "https://localhost:8080/",
     "height": 261
    },
    "id": "bauEEK3o4wCx",
    "outputId": "f4684e4e-172b-4ddc-e158-d0f070256c4b",
    "scrolled": true
   },
   "outputs": [
    {
     "data": {
      "text/html": [
       "<div>\n",
       "<style scoped>\n",
       "    .dataframe tbody tr th:only-of-type {\n",
       "        vertical-align: middle;\n",
       "    }\n",
       "\n",
       "    .dataframe tbody tr th {\n",
       "        vertical-align: top;\n",
       "    }\n",
       "\n",
       "    .dataframe thead th {\n",
       "        text-align: right;\n",
       "    }\n",
       "</style>\n",
       "<table border=\"1\" class=\"dataframe\">\n",
       "  <thead>\n",
       "    <tr style=\"text-align: right;\">\n",
       "      <th></th>\n",
       "      <th>year</th>\n",
       "      <th>price</th>\n",
       "      <th>mileage</th>\n",
       "      <th>tax</th>\n",
       "      <th>mpg</th>\n",
       "      <th>engineSize</th>\n",
       "      <th>model_ B Class</th>\n",
       "      <th>model_ C Class</th>\n",
       "      <th>model_ CL Class</th>\n",
       "      <th>model_ CLA Class</th>\n",
       "      <th>...</th>\n",
       "      <th>model_180</th>\n",
       "      <th>model_200</th>\n",
       "      <th>model_220</th>\n",
       "      <th>model_230</th>\n",
       "      <th>transmission_Manual</th>\n",
       "      <th>transmission_Other</th>\n",
       "      <th>transmission_Semi-Auto</th>\n",
       "      <th>fuelType_Hybrid</th>\n",
       "      <th>fuelType_Other</th>\n",
       "      <th>fuelType_Petrol</th>\n",
       "    </tr>\n",
       "  </thead>\n",
       "  <tbody>\n",
       "    <tr>\n",
       "      <th>0</th>\n",
       "      <td>2005</td>\n",
       "      <td>5200</td>\n",
       "      <td>63000</td>\n",
       "      <td>325</td>\n",
       "      <td>32.1</td>\n",
       "      <td>1.8</td>\n",
       "      <td>0</td>\n",
       "      <td>0</td>\n",
       "      <td>0</td>\n",
       "      <td>0</td>\n",
       "      <td>...</td>\n",
       "      <td>0</td>\n",
       "      <td>0</td>\n",
       "      <td>0</td>\n",
       "      <td>0</td>\n",
       "      <td>0</td>\n",
       "      <td>0</td>\n",
       "      <td>0</td>\n",
       "      <td>0</td>\n",
       "      <td>0</td>\n",
       "      <td>1</td>\n",
       "    </tr>\n",
       "    <tr>\n",
       "      <th>1</th>\n",
       "      <td>2017</td>\n",
       "      <td>34948</td>\n",
       "      <td>27000</td>\n",
       "      <td>20</td>\n",
       "      <td>61.4</td>\n",
       "      <td>2.1</td>\n",
       "      <td>0</td>\n",
       "      <td>0</td>\n",
       "      <td>0</td>\n",
       "      <td>0</td>\n",
       "      <td>...</td>\n",
       "      <td>0</td>\n",
       "      <td>0</td>\n",
       "      <td>0</td>\n",
       "      <td>0</td>\n",
       "      <td>0</td>\n",
       "      <td>0</td>\n",
       "      <td>0</td>\n",
       "      <td>1</td>\n",
       "      <td>0</td>\n",
       "      <td>0</td>\n",
       "    </tr>\n",
       "    <tr>\n",
       "      <th>2</th>\n",
       "      <td>2016</td>\n",
       "      <td>49948</td>\n",
       "      <td>6200</td>\n",
       "      <td>555</td>\n",
       "      <td>28.0</td>\n",
       "      <td>5.5</td>\n",
       "      <td>0</td>\n",
       "      <td>0</td>\n",
       "      <td>0</td>\n",
       "      <td>0</td>\n",
       "      <td>...</td>\n",
       "      <td>0</td>\n",
       "      <td>0</td>\n",
       "      <td>0</td>\n",
       "      <td>0</td>\n",
       "      <td>0</td>\n",
       "      <td>0</td>\n",
       "      <td>0</td>\n",
       "      <td>0</td>\n",
       "      <td>0</td>\n",
       "      <td>1</td>\n",
       "    </tr>\n",
       "    <tr>\n",
       "      <th>3</th>\n",
       "      <td>2016</td>\n",
       "      <td>61948</td>\n",
       "      <td>16000</td>\n",
       "      <td>325</td>\n",
       "      <td>30.4</td>\n",
       "      <td>4.0</td>\n",
       "      <td>0</td>\n",
       "      <td>0</td>\n",
       "      <td>0</td>\n",
       "      <td>0</td>\n",
       "      <td>...</td>\n",
       "      <td>0</td>\n",
       "      <td>0</td>\n",
       "      <td>0</td>\n",
       "      <td>0</td>\n",
       "      <td>0</td>\n",
       "      <td>0</td>\n",
       "      <td>0</td>\n",
       "      <td>0</td>\n",
       "      <td>0</td>\n",
       "      <td>1</td>\n",
       "    </tr>\n",
       "    <tr>\n",
       "      <th>4</th>\n",
       "      <td>2016</td>\n",
       "      <td>73948</td>\n",
       "      <td>4000</td>\n",
       "      <td>325</td>\n",
       "      <td>30.1</td>\n",
       "      <td>4.0</td>\n",
       "      <td>0</td>\n",
       "      <td>0</td>\n",
       "      <td>0</td>\n",
       "      <td>0</td>\n",
       "      <td>...</td>\n",
       "      <td>0</td>\n",
       "      <td>0</td>\n",
       "      <td>0</td>\n",
       "      <td>0</td>\n",
       "      <td>0</td>\n",
       "      <td>0</td>\n",
       "      <td>0</td>\n",
       "      <td>0</td>\n",
       "      <td>0</td>\n",
       "      <td>1</td>\n",
       "    </tr>\n",
       "  </tbody>\n",
       "</table>\n",
       "<p>5 rows × 38 columns</p>\n",
       "</div>"
      ],
      "text/plain": [
       "   year  price  mileage  tax   mpg  engineSize  model_ B Class  \\\n",
       "0  2005   5200    63000  325  32.1         1.8               0   \n",
       "1  2017  34948    27000   20  61.4         2.1               0   \n",
       "2  2016  49948     6200  555  28.0         5.5               0   \n",
       "3  2016  61948    16000  325  30.4         4.0               0   \n",
       "4  2016  73948     4000  325  30.1         4.0               0   \n",
       "\n",
       "   model_ C Class  model_ CL Class  model_ CLA Class  ...  model_180  \\\n",
       "0               0                0                 0  ...          0   \n",
       "1               0                0                 0  ...          0   \n",
       "2               0                0                 0  ...          0   \n",
       "3               0                0                 0  ...          0   \n",
       "4               0                0                 0  ...          0   \n",
       "\n",
       "   model_200  model_220  model_230  transmission_Manual  transmission_Other  \\\n",
       "0          0          0          0                    0                   0   \n",
       "1          0          0          0                    0                   0   \n",
       "2          0          0          0                    0                   0   \n",
       "3          0          0          0                    0                   0   \n",
       "4          0          0          0                    0                   0   \n",
       "\n",
       "   transmission_Semi-Auto  fuelType_Hybrid  fuelType_Other  fuelType_Petrol  \n",
       "0                       0                0               0                1  \n",
       "1                       0                1               0                0  \n",
       "2                       0                0               0                1  \n",
       "3                       0                0               0                1  \n",
       "4                       0                0               0                1  \n",
       "\n",
       "[5 rows x 38 columns]"
      ]
     },
     "execution_count": 10,
     "metadata": {},
     "output_type": "execute_result"
    }
   ],
   "source": [
    "# Model, transmission and fuel type are categorical variables.\n",
    "# We cannot include categorical variables directly in the regression model. \n",
    "# We must first create binary dummy variables by encoding the categorical variables.\n",
    "# Each category becomes a column and the first (or any one) category is dropped.\n",
    "# Therefore, if there are n categories, we get n-1 dummy variables.\n",
    "df_encoded = pd.get_dummies(data = df, drop_first=True)\n",
    "df_encoded.head()"
   ]
  },
  {
   "cell_type": "code",
   "execution_count": 11,
   "metadata": {
    "colab": {
     "base_uri": "https://localhost:8080/"
    },
    "id": "1uwkCKyw6TQn",
    "outputId": "4e1f1e9b-5d4a-4618-9428-93eff60c5953"
   },
   "outputs": [
    {
     "data": {
      "text/plain": [
       "(13119, 38)"
      ]
     },
     "execution_count": 11,
     "metadata": {},
     "output_type": "execute_result"
    }
   ],
   "source": [
    "df_encoded.shape"
   ]
  },
  {
   "cell_type": "code",
   "execution_count": 12,
   "metadata": {
    "id": "muFT44AX6ml-"
   },
   "outputs": [],
   "source": [
    "# The dependent variable that we want to predict is price\n",
    "Y = df_encoded['price']"
   ]
  },
  {
   "cell_type": "code",
   "execution_count": 13,
   "metadata": {
    "id": "LPJFjSFx6t07"
   },
   "outputs": [],
   "source": [
    "# All other variables are independent variables\n",
    "X = df_encoded.loc[:, df_encoded.columns != 'price']"
   ]
  },
  {
   "cell_type": "code",
   "execution_count": 14,
   "metadata": {
    "id": "7ng8AETQ7Bnj"
   },
   "outputs": [],
   "source": [
    "# Augment the X matrix by adding a column for the intercept term 'a'\n",
    "X['CONST'] = 1"
   ]
  },
  {
   "cell_type": "code",
   "execution_count": 15,
   "metadata": {
    "colab": {
     "base_uri": "https://localhost:8080/",
     "height": 261
    },
    "id": "8Kf9x8cx8ASD",
    "outputId": "0a5f4e19-43fc-425e-a15b-f75cac0b4373"
   },
   "outputs": [
    {
     "data": {
      "text/html": [
       "<div>\n",
       "<style scoped>\n",
       "    .dataframe tbody tr th:only-of-type {\n",
       "        vertical-align: middle;\n",
       "    }\n",
       "\n",
       "    .dataframe tbody tr th {\n",
       "        vertical-align: top;\n",
       "    }\n",
       "\n",
       "    .dataframe thead th {\n",
       "        text-align: right;\n",
       "    }\n",
       "</style>\n",
       "<table border=\"1\" class=\"dataframe\">\n",
       "  <thead>\n",
       "    <tr style=\"text-align: right;\">\n",
       "      <th></th>\n",
       "      <th>year</th>\n",
       "      <th>mileage</th>\n",
       "      <th>tax</th>\n",
       "      <th>mpg</th>\n",
       "      <th>engineSize</th>\n",
       "      <th>model_ B Class</th>\n",
       "      <th>model_ C Class</th>\n",
       "      <th>model_ CL Class</th>\n",
       "      <th>model_ CLA Class</th>\n",
       "      <th>model_ CLC Class</th>\n",
       "      <th>...</th>\n",
       "      <th>model_200</th>\n",
       "      <th>model_220</th>\n",
       "      <th>model_230</th>\n",
       "      <th>transmission_Manual</th>\n",
       "      <th>transmission_Other</th>\n",
       "      <th>transmission_Semi-Auto</th>\n",
       "      <th>fuelType_Hybrid</th>\n",
       "      <th>fuelType_Other</th>\n",
       "      <th>fuelType_Petrol</th>\n",
       "      <th>CONST</th>\n",
       "    </tr>\n",
       "  </thead>\n",
       "  <tbody>\n",
       "    <tr>\n",
       "      <th>0</th>\n",
       "      <td>2005</td>\n",
       "      <td>63000</td>\n",
       "      <td>325</td>\n",
       "      <td>32.1</td>\n",
       "      <td>1.8</td>\n",
       "      <td>0</td>\n",
       "      <td>0</td>\n",
       "      <td>0</td>\n",
       "      <td>0</td>\n",
       "      <td>0</td>\n",
       "      <td>...</td>\n",
       "      <td>0</td>\n",
       "      <td>0</td>\n",
       "      <td>0</td>\n",
       "      <td>0</td>\n",
       "      <td>0</td>\n",
       "      <td>0</td>\n",
       "      <td>0</td>\n",
       "      <td>0</td>\n",
       "      <td>1</td>\n",
       "      <td>1</td>\n",
       "    </tr>\n",
       "    <tr>\n",
       "      <th>1</th>\n",
       "      <td>2017</td>\n",
       "      <td>27000</td>\n",
       "      <td>20</td>\n",
       "      <td>61.4</td>\n",
       "      <td>2.1</td>\n",
       "      <td>0</td>\n",
       "      <td>0</td>\n",
       "      <td>0</td>\n",
       "      <td>0</td>\n",
       "      <td>0</td>\n",
       "      <td>...</td>\n",
       "      <td>0</td>\n",
       "      <td>0</td>\n",
       "      <td>0</td>\n",
       "      <td>0</td>\n",
       "      <td>0</td>\n",
       "      <td>0</td>\n",
       "      <td>1</td>\n",
       "      <td>0</td>\n",
       "      <td>0</td>\n",
       "      <td>1</td>\n",
       "    </tr>\n",
       "    <tr>\n",
       "      <th>2</th>\n",
       "      <td>2016</td>\n",
       "      <td>6200</td>\n",
       "      <td>555</td>\n",
       "      <td>28.0</td>\n",
       "      <td>5.5</td>\n",
       "      <td>0</td>\n",
       "      <td>0</td>\n",
       "      <td>0</td>\n",
       "      <td>0</td>\n",
       "      <td>0</td>\n",
       "      <td>...</td>\n",
       "      <td>0</td>\n",
       "      <td>0</td>\n",
       "      <td>0</td>\n",
       "      <td>0</td>\n",
       "      <td>0</td>\n",
       "      <td>0</td>\n",
       "      <td>0</td>\n",
       "      <td>0</td>\n",
       "      <td>1</td>\n",
       "      <td>1</td>\n",
       "    </tr>\n",
       "    <tr>\n",
       "      <th>3</th>\n",
       "      <td>2016</td>\n",
       "      <td>16000</td>\n",
       "      <td>325</td>\n",
       "      <td>30.4</td>\n",
       "      <td>4.0</td>\n",
       "      <td>0</td>\n",
       "      <td>0</td>\n",
       "      <td>0</td>\n",
       "      <td>0</td>\n",
       "      <td>0</td>\n",
       "      <td>...</td>\n",
       "      <td>0</td>\n",
       "      <td>0</td>\n",
       "      <td>0</td>\n",
       "      <td>0</td>\n",
       "      <td>0</td>\n",
       "      <td>0</td>\n",
       "      <td>0</td>\n",
       "      <td>0</td>\n",
       "      <td>1</td>\n",
       "      <td>1</td>\n",
       "    </tr>\n",
       "    <tr>\n",
       "      <th>4</th>\n",
       "      <td>2016</td>\n",
       "      <td>4000</td>\n",
       "      <td>325</td>\n",
       "      <td>30.1</td>\n",
       "      <td>4.0</td>\n",
       "      <td>0</td>\n",
       "      <td>0</td>\n",
       "      <td>0</td>\n",
       "      <td>0</td>\n",
       "      <td>0</td>\n",
       "      <td>...</td>\n",
       "      <td>0</td>\n",
       "      <td>0</td>\n",
       "      <td>0</td>\n",
       "      <td>0</td>\n",
       "      <td>0</td>\n",
       "      <td>0</td>\n",
       "      <td>0</td>\n",
       "      <td>0</td>\n",
       "      <td>1</td>\n",
       "      <td>1</td>\n",
       "    </tr>\n",
       "  </tbody>\n",
       "</table>\n",
       "<p>5 rows × 38 columns</p>\n",
       "</div>"
      ],
      "text/plain": [
       "   year  mileage  tax   mpg  engineSize  model_ B Class  model_ C Class  \\\n",
       "0  2005    63000  325  32.1         1.8               0               0   \n",
       "1  2017    27000   20  61.4         2.1               0               0   \n",
       "2  2016     6200  555  28.0         5.5               0               0   \n",
       "3  2016    16000  325  30.4         4.0               0               0   \n",
       "4  2016     4000  325  30.1         4.0               0               0   \n",
       "\n",
       "   model_ CL Class  model_ CLA Class  model_ CLC Class  ...  model_200  \\\n",
       "0                0                 0                 0  ...          0   \n",
       "1                0                 0                 0  ...          0   \n",
       "2                0                 0                 0  ...          0   \n",
       "3                0                 0                 0  ...          0   \n",
       "4                0                 0                 0  ...          0   \n",
       "\n",
       "   model_220  model_230  transmission_Manual  transmission_Other  \\\n",
       "0          0          0                    0                   0   \n",
       "1          0          0                    0                   0   \n",
       "2          0          0                    0                   0   \n",
       "3          0          0                    0                   0   \n",
       "4          0          0                    0                   0   \n",
       "\n",
       "   transmission_Semi-Auto  fuelType_Hybrid  fuelType_Other  fuelType_Petrol  \\\n",
       "0                       0                0               0                1   \n",
       "1                       0                1               0                0   \n",
       "2                       0                0               0                1   \n",
       "3                       0                0               0                1   \n",
       "4                       0                0               0                1   \n",
       "\n",
       "   CONST  \n",
       "0      1  \n",
       "1      1  \n",
       "2      1  \n",
       "3      1  \n",
       "4      1  \n",
       "\n",
       "[5 rows x 38 columns]"
      ]
     },
     "execution_count": 15,
     "metadata": {},
     "output_type": "execute_result"
    }
   ],
   "source": [
    "X.head()"
   ]
  },
  {
   "cell_type": "code",
   "execution_count": 16,
   "metadata": {
    "colab": {
     "base_uri": "https://localhost:8080/"
    },
    "id": "jyeL6UOH8D2L",
    "outputId": "9a66d6d8-4001-40f0-cee3-3d8d120fbc37"
   },
   "outputs": [
    {
     "data": {
      "text/plain": [
       "Index(['year', 'mileage', 'tax', 'mpg', 'engineSize', 'model_ B Class',\n",
       "       'model_ C Class', 'model_ CL Class', 'model_ CLA Class',\n",
       "       'model_ CLC Class', 'model_ CLK', 'model_ CLS Class', 'model_ E Class',\n",
       "       'model_ G Class', 'model_ GL Class', 'model_ GLA Class',\n",
       "       'model_ GLB Class', 'model_ GLC Class', 'model_ GLE Class',\n",
       "       'model_ GLS Class', 'model_ M Class', 'model_ R Class',\n",
       "       'model_ S Class', 'model_ SL CLASS', 'model_ SLK', 'model_ V Class',\n",
       "       'model_ X-CLASS', 'model_180', 'model_200', 'model_220', 'model_230',\n",
       "       'transmission_Manual', 'transmission_Other', 'transmission_Semi-Auto',\n",
       "       'fuelType_Hybrid', 'fuelType_Other', 'fuelType_Petrol', 'CONST'],\n",
       "      dtype='object')"
      ]
     },
     "execution_count": 16,
     "metadata": {},
     "output_type": "execute_result"
    }
   ],
   "source": [
    "# Save the names of the columns in a list\n",
    "variable_list = X.columns\n",
    "variable_list"
   ]
  },
  {
   "cell_type": "code",
   "execution_count": 17,
   "metadata": {
    "id": "G_r6rbhu8Lqt"
   },
   "outputs": [],
   "source": [
    "# Convert everything to numpy arrays\n",
    "Y = Y.to_numpy()\n",
    "X = X.to_numpy()"
   ]
  },
  {
   "cell_type": "code",
   "execution_count": 18,
   "metadata": {
    "colab": {
     "base_uri": "https://localhost:8080/"
    },
    "id": "vAdwvk8A8rC9",
    "outputId": "0a2c8b48-8054-4cf0-adc9-cf873c85beae"
   },
   "outputs": [
    {
     "name": "stdout",
     "output_type": "stream",
     "text": [
      "(13119,)\n",
      "(13119, 38)\n"
     ]
    }
   ],
   "source": [
    "print(np.shape(Y))\n",
    "print(np.shape(X))"
   ]
  },
  {
   "cell_type": "markdown",
   "metadata": {
    "id": "0P3YVwlR803S"
   },
   "source": [
    "We estimate the ordinary least squares (OLS) regression coefficients using the following formula.\n",
    "\n",
    "$$\\hat{\\beta} = (X^{T}X)^{-1}X^{T}Y$$"
   ]
  },
  {
   "cell_type": "code",
   "execution_count": 19,
   "metadata": {
    "colab": {
     "base_uri": "https://localhost:8080/"
    },
    "id": "h5_nG8q39AqJ",
    "outputId": "fa568734-0d69-4ffb-dc4d-4395acef402a"
   },
   "outputs": [
    {
     "data": {
      "text/plain": [
       "array([ 1.97795373e+03, -1.38178451e-01, -2.05318544e+01, -1.68314991e+02,\n",
       "        9.07601471e+03, -2.58050306e+03, -5.20049612e+02, -8.85427934e+02,\n",
       "       -2.89750415e+02,  3.39381590e+03,  8.93163856e+03, -4.69276285e+02,\n",
       "        1.12180408e+03,  5.60547918e+04,  8.98976021e+02, -2.14367435e+03,\n",
       "        5.30803067e+03,  4.41548003e+03,  7.28326264e+03,  1.02508194e+04,\n",
       "        4.74917980e+03,  2.77144817e+03,  1.04469896e+04,  3.30174747e+02,\n",
       "        2.69040613e+03,  5.53091740e+03, -2.57833420e+03,  4.18363667e+03,\n",
       "       -3.53292118e+03, -4.64122487e+03,  3.21184931e+04, -2.22001705e+03,\n",
       "       -2.75416097e+02,  3.59107363e+01,  1.18158887e+04,  1.45491987e+04,\n",
       "        1.60085921e+03, -3.97035870e+06])"
      ]
     },
     "execution_count": 19,
     "metadata": {},
     "output_type": "execute_result"
    }
   ],
   "source": [
    "beta_est = np.dot(np.linalg.inv(np.dot(X.T, X)), np.dot(X.T, Y))\n",
    "beta_est"
   ]
  },
  {
   "cell_type": "code",
   "execution_count": 20,
   "metadata": {
    "colab": {
     "base_uri": "https://localhost:8080/"
    },
    "id": "s2nUfMfJ9lZ_",
    "outputId": "5660c5fd-1df3-40e3-e432-00a0ae8f41db"
   },
   "outputs": [
    {
     "data": {
      "text/plain": [
       "{'year': 1977.9537346198194,\n",
       " 'mileage': -0.13817845075542173,\n",
       " 'tax': -20.531854371841973,\n",
       " 'mpg': -168.31499130520024,\n",
       " 'engineSize': 9076.014710874166,\n",
       " 'model_ B Class': -2580.503061901225,\n",
       " 'model_ C Class': -520.0496120025637,\n",
       " 'model_ CL Class': -885.4279341650836,\n",
       " 'model_ CLA Class': -289.750414665672,\n",
       " 'model_ CLC Class': 3393.815895110223,\n",
       " 'model_ CLK': 8931.638556877966,\n",
       " 'model_ CLS Class': -469.2762851706357,\n",
       " 'model_ E Class': 1121.8040814396518,\n",
       " 'model_ G Class': 56054.791763985704,\n",
       " 'model_ GL Class': 898.9760214923299,\n",
       " 'model_ GLA Class': -2143.6743498000433,\n",
       " 'model_ GLB Class': 5308.030666642706,\n",
       " 'model_ GLC Class': 4415.480034965789,\n",
       " 'model_ GLE Class': 7283.262642026297,\n",
       " 'model_ GLS Class': 10250.81944656081,\n",
       " 'model_ M Class': 4749.179803099716,\n",
       " 'model_ R Class': 2771.4481712363777,\n",
       " 'model_ S Class': 10446.989617409417,\n",
       " 'model_ SL CLASS': 330.17474685490015,\n",
       " 'model_ SLK': 2690.4061265556666,\n",
       " 'model_ V Class': 5530.91739801981,\n",
       " 'model_ X-CLASS': -2578.334198208002,\n",
       " 'model_180': 4183.636668947409,\n",
       " 'model_200': -3532.9211807767424,\n",
       " 'model_220': -4641.2248749322025,\n",
       " 'model_230': 32118.493139032973,\n",
       " 'transmission_Manual': -2220.017050120754,\n",
       " 'transmission_Other': -275.41609729023185,\n",
       " 'transmission_Semi-Auto': 35.91073625703211,\n",
       " 'fuelType_Hybrid': 11815.888654112816,\n",
       " 'fuelType_Other': 14549.198745516129,\n",
       " 'fuelType_Petrol': 1600.859211678966,\n",
       " 'CONST': -3970358.6983623747}"
      ]
     },
     "execution_count": 20,
     "metadata": {},
     "output_type": "execute_result"
    }
   ],
   "source": [
    "coeffs = dict(zip(variable_list, beta_est))\n",
    "coeffs"
   ]
  },
  {
   "cell_type": "markdown",
   "metadata": {
    "id": "YlJNoXd1EoTc"
   },
   "source": [
    "# Verification of the results using the Statsmodels library"
   ]
  },
  {
   "cell_type": "code",
   "execution_count": 21,
   "metadata": {
    "colab": {
     "base_uri": "https://localhost:8080/"
    },
    "id": "EH9dt1lK9uUn",
    "outputId": "d0539be0-694e-443e-d061-52076b867c20"
   },
   "outputs": [],
   "source": [
    "import statsmodels.api as sm"
   ]
  },
  {
   "cell_type": "code",
   "execution_count": 22,
   "metadata": {
    "id": "465dLHVB-PMD"
   },
   "outputs": [],
   "source": [
    "X = df_encoded.loc[:, df_encoded.columns != 'price']\n",
    "X = sm.add_constant(data = X, prepend = True)   # Add the constant (intercept) term 'a' to the model\n",
    "Y = df_encoded['price']"
   ]
  },
  {
   "cell_type": "code",
   "execution_count": 23,
   "metadata": {
    "id": "s82PUxiZ-nQC"
   },
   "outputs": [],
   "source": [
    "model = sm.OLS(Y, X)"
   ]
  },
  {
   "cell_type": "code",
   "execution_count": 24,
   "metadata": {
    "id": "CCIcrDdo-qY5"
   },
   "outputs": [],
   "source": [
    "result = model.fit()"
   ]
  },
  {
   "cell_type": "code",
   "execution_count": 25,
   "metadata": {
    "colab": {
     "base_uri": "https://localhost:8080/"
    },
    "id": "evI0g3eS-3-N",
    "outputId": "b84c9062-8ff9-40a4-bd8c-347147d17815"
   },
   "outputs": [
    {
     "name": "stdout",
     "output_type": "stream",
     "text": [
      "                            OLS Regression Results                            \n",
      "==============================================================================\n",
      "Dep. Variable:                  price   R-squared:                       0.769\n",
      "Model:                            OLS   Adj. R-squared:                  0.768\n",
      "Method:                 Least Squares   F-statistic:                     1174.\n",
      "Date:                Thu, 28 Oct 2021   Prob (F-statistic):               0.00\n",
      "Time:                        15:38:18   Log-Likelihood:            -1.3206e+05\n",
      "No. Observations:               13119   AIC:                         2.642e+05\n",
      "Df Residuals:                   13081   BIC:                         2.645e+05\n",
      "Df Model:                          37                                         \n",
      "Covariance Type:            nonrobust                                         \n",
      "==========================================================================================\n",
      "                             coef    std err          t      P>|t|      [0.025      0.975]\n",
      "------------------------------------------------------------------------------------------\n",
      "const                   -3.97e+06   7.27e+04    -54.582      0.000   -4.11e+06   -3.83e+06\n",
      "year                    1977.9537     36.013     54.923      0.000    1907.363    2048.545\n",
      "mileage                   -0.1382      0.004    -37.467      0.000      -0.145      -0.131\n",
      "tax                      -20.5319      0.987    -20.806      0.000     -22.466     -18.597\n",
      "mpg                     -168.3150      6.682    -25.189      0.000    -181.413    -155.217\n",
      "engineSize              9076.0147    118.903     76.331      0.000    8842.947    9309.083\n",
      "model_ B Class         -2580.5031    261.793     -9.857      0.000   -3093.655   -2067.351\n",
      "model_ C Class          -520.0496    158.838     -3.274      0.001    -831.395    -208.704\n",
      "model_ CL Class         -885.4279    280.057     -3.162      0.002   -1434.380    -336.476\n",
      "model_ CLA Class        -289.7504    629.142     -0.461      0.645   -1522.961     943.460\n",
      "model_ CLC Class        3393.8159   3307.774      1.026      0.305   -3089.903    9877.535\n",
      "model_ CLK              8931.6386   2196.875      4.066      0.000    4625.444    1.32e+04\n",
      "model_ CLS Class        -469.2763    411.509     -1.140      0.254   -1275.893     337.340\n",
      "model_ E Class          1121.8041    194.156      5.778      0.000     741.231    1502.377\n",
      "model_ G Class          5.605e+04   1502.026     37.319      0.000    5.31e+04     5.9e+04\n",
      "model_ GL Class          898.9760    543.378      1.654      0.098    -166.124    1964.076\n",
      "model_ GLA Class       -2143.6743    233.754     -9.171      0.000   -2601.866   -1685.483\n",
      "model_ GLB Class        5308.0307   1322.782      4.013      0.000    2715.186    7900.875\n",
      "model_ GLC Class        4415.4800    243.928     18.102      0.000    3937.345    4893.615\n",
      "model_ GLE Class        7283.2626    338.181     21.537      0.000    6620.378    7946.147\n",
      "model_ GLS Class        1.025e+04    706.400     14.511      0.000    8866.172    1.16e+04\n",
      "model_ M Class          4749.1798    703.073      6.755      0.000    3371.054    6127.305\n",
      "model_ R Class          2771.4482   4056.420      0.683      0.494   -5179.725    1.07e+04\n",
      "model_ S Class          1.045e+04    461.700     22.627      0.000    9541.990    1.14e+04\n",
      "model_ SL CLASS          330.1747    390.718      0.845      0.398    -435.689    1096.039\n",
      "model_ SLK              2690.4061    631.608      4.260      0.000    1452.363    3928.449\n",
      "model_ V Class          5530.9174    440.207     12.564      0.000    4668.047    6393.787\n",
      "model_ X-CLASS         -2578.3342    681.806     -3.782      0.000   -3914.773   -1241.895\n",
      "model_180               4183.6367   5708.445      0.733      0.464   -7005.744    1.54e+04\n",
      "model_200              -3532.9212   5708.795     -0.619      0.536   -1.47e+04    7657.146\n",
      "model_220              -4641.2249   5707.508     -0.813      0.416   -1.58e+04    6546.320\n",
      "model_230               3.212e+04   5734.758      5.601      0.000    2.09e+04    4.34e+04\n",
      "transmission_Manual    -2220.0171    189.152    -11.737      0.000   -2590.782   -1849.252\n",
      "transmission_Other      -275.4161   4211.937     -0.065      0.948   -8531.425    7980.593\n",
      "transmission_Semi-Auto    35.9107    112.456      0.319      0.749    -184.519     256.340\n",
      "fuelType_Hybrid         1.182e+04    592.582     19.940      0.000    1.07e+04     1.3e+04\n",
      "fuelType_Other          1.455e+04   2292.435      6.347      0.000    1.01e+04     1.9e+04\n",
      "fuelType_Petrol         1600.8592    174.106      9.195      0.000    1259.586    1942.132\n",
      "==============================================================================\n",
      "Omnibus:                    12189.611   Durbin-Watson:                   1.745\n",
      "Prob(Omnibus):                  0.000   Jarque-Bera (JB):          1558837.526\n",
      "Skew:                           4.055   Prob(JB):                         0.00\n",
      "Kurtosis:                      55.782   Cond. No.                     4.46e+07\n",
      "==============================================================================\n",
      "\n",
      "Notes:\n",
      "[1] Standard Errors assume that the covariance matrix of the errors is correctly specified.\n",
      "[2] The condition number is large, 4.46e+07. This might indicate that there are\n",
      "strong multicollinearity or other numerical problems.\n"
     ]
    }
   ],
   "source": [
    "print(result.summary())"
   ]
  }
 ],
 "metadata": {
  "celltoolbar": "Slideshow",
  "colab": {
   "collapsed_sections": [],
   "name": "Regression LA",
   "provenance": []
  },
  "kernelspec": {
   "display_name": "Python 3",
   "language": "python",
   "name": "python3"
  },
  "language_info": {
   "codemirror_mode": {
    "name": "ipython",
    "version": 3
   },
   "file_extension": ".py",
   "mimetype": "text/x-python",
   "name": "python",
   "nbconvert_exporter": "python",
   "pygments_lexer": "ipython3",
   "version": "3.8.5"
  }
 },
 "nbformat": 4,
 "nbformat_minor": 1
}
